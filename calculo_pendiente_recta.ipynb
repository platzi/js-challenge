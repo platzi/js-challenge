{
  "nbformat": 4,
  "nbformat_minor": 0,
  "metadata": {
    "colab": {
      "provenance": [],
      "authorship_tag": "ABX9TyMp3UoSyOBls2ga4i03D5vW",
      "include_colab_link": true
    },
    "kernelspec": {
      "name": "python3",
      "display_name": "Python 3"
    },
    "language_info": {
      "name": "python"
    }
  },
  "cells": [
    {
      "cell_type": "markdown",
      "metadata": {
        "id": "view-in-github",
        "colab_type": "text"
      },
      "source": [
        "<a href=\"https://colab.research.google.com/github/rtrochepy/js-challenge/blob/main/calculo_pendiente_recta.ipynb\" target=\"_parent\"><img src=\"https://colab.research.google.com/assets/colab-badge.svg\" alt=\"Open In Colab\"/></a>"
      ]
    },
    {
      "cell_type": "code",
      "execution_count": 1,
      "metadata": {
        "colab": {
          "base_uri": "https://localhost:8080/"
        },
        "id": "wJk0DAER6gQZ",
        "outputId": "5e9f057c-6989-47fa-95df-56ecb3eef938"
      },
      "outputs": [
        {
          "output_type": "stream",
          "name": "stdout",
          "text": [
            "La pendiente entre los puntos (1, 2) y (3, 4) es 1.0\n"
          ]
        }
      ],
      "source": [
        "# Función para calcular la pendiente entre dos puntos\n",
        "def calcular_pendiente(x1, y1, x2, y2):\n",
        "    return (y2 - y1) / (x2 - x1)\n",
        "\n",
        "# Coordenadas de los dos puntos\n",
        "x1, y1 = 1, 2\n",
        "x2, y2 = 3, 4\n",
        "\n",
        "# Calcular la pendiente\n",
        "pendiente = calcular_pendiente(x1, y1, x2, y2)\n",
        "\n",
        "# Mostrar la pendiente\n",
        "print(f\"La pendiente entre los puntos ({x1}, {y1}) y ({x2}, {y2}) es {pendiente}\")"
      ]
    }
  ]
}